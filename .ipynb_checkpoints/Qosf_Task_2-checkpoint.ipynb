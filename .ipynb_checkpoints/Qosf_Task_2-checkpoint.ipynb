{
 "cells": [
  {
   "cell_type": "markdown",
   "metadata": {},
   "source": [
    "# Task 2"
   ]
  },
  {
   "cell_type": "markdown",
   "metadata": {},
   "source": [
    "### Imports"
   ]
  },
  {
   "cell_type": "code",
   "execution_count": 117,
   "metadata": {},
   "outputs": [],
   "source": [
    "from qiskit import *\n",
    "from qiskit.aqua.components.optimizers.adam_amsgrad import ADAM\n",
    "from qiskit.aqua.components.optimizers import AQGD\n",
    "from qiskit.visualization import plot_histogram, plot_state_qsphere as plot_q\n",
    "from qiskit.providers.aer.noise import NoiseModel\n",
    "\n",
    "import matplotlib.pyplot as plt\n",
    "%matplotlib inline\n",
    "from math import pi\n",
    "\n",
    "import numpy as np\n",
    "np.random.seed(7)"
   ]
  },
  {
   "cell_type": "markdown",
   "metadata": {},
   "source": [
    "### Define Circuits and other Functions "
   ]
  },
  {
   "cell_type": "markdown",
   "metadata": {},
   "source": [
    "Here, we'll declare a class including necessary functions. These functions will be used for noisy and noiseless circuit calculation."
   ]
  },
  {
   "cell_type": "markdown",
   "metadata": {},
   "source": [
    "We use **Ry** and **Rx** gate on qubit **0** and **Rx** gate on qubit 1. Again, a **CNOT** gate is used, which uses qubit 0 as the control bit. Our main goal here is to implement some sort of **Hadamard** gate on qubit 0 and **Cx** gate on qubit 1, which creates a bell circuit and returns both states `01` and `10` with equal probability. "
   ]
  },
  {
   "cell_type": "code",
   "execution_count": 134,
   "metadata": {},
   "outputs": [],
   "source": [
    "class Circuit_Class:\n",
    "    shots = 1\n",
    "    \n",
    "    def get_circuit(self, params):\n",
    "        q = QuantumCircuit(2, 2)\n",
    "        q.ry(params[0], 0)\n",
    "        q.rx(params[1], 0)\n",
    "        q.rx(params[2], 1)\n",
    "        q.cnot(0, 1)\n",
    "        q.measure(0, 0)\n",
    "        q.measure(1, 1)\n",
    "\n",
    "        return q\n",
    "\n",
    "\n",
    "    def get_circuit_outputs(self, params):\n",
    "        circ = self.get_circuit(params)\n",
    "\n",
    "        backend = Aer.get_backend('qasm_simulator')\n",
    "        job = execute(circ, backend, shots=self.shots)\n",
    "        result = job.result()\n",
    "        counts = result.get_counts()\n",
    "\n",
    "        return counts\n",
    "\n",
    "\n",
    "    def get_cost(self, params):\n",
    "        counts = self.get_circuit_outputs(params)\n",
    "\n",
    "        p_00 = (counts[\"00\"] / 1024 * 100) if \"00\" in counts else 0\n",
    "        p_01 = (counts[\"01\"] / 1024 * 100) if \"01\" in counts else 0    \n",
    "        p_10 = (counts[\"10\"] / 1024 * 100) if \"10\" in counts else 0\n",
    "        p_11 = (counts[\"11\"] / 1024 * 100) if \"11\" in counts else 0\n",
    "\n",
    "        return (0-p_00)**2 + (50-p_01)**2 + (50-p_10)**2 + (0-p_11)**2\n",
    "    \n",
    "    \n",
    "    def get_circuit_outputs_with_noise(self, params):\n",
    "        circ = self.get_circuit(params)\n",
    "\n",
    "        backend = Aer.get_backend('qasm_simulator')\n",
    "        noise_model = NoiseModel()\n",
    "        job = execute(circ, backend, shots=self.shots, noise_model=noise_model)\n",
    "        result = job.result()\n",
    "        counts = result.get_counts()\n",
    "\n",
    "        return counts\n",
    "\n",
    "\n",
    "    def get_cost_with_noise(self, params):\n",
    "        counts = self.get_circuit_outputs_with_noise(params)\n",
    "\n",
    "        p_00 = (counts[\"00\"] / 1024 * 100) if \"00\" in counts else 0\n",
    "        p_01 = (counts[\"01\"] / 1024 * 100) if \"01\" in counts else 0    \n",
    "        p_10 = (counts[\"10\"] / 1024 * 100) if \"10\" in counts else 0\n",
    "        p_11 = (counts[\"11\"] / 1024 * 100) if \"11\" in counts else 0\n",
    "\n",
    "        return (0-p_00)**2 + (50-p_01)**2 + (50-p_10)**2 + (0-p_11)**2"
   ]
  },
  {
   "cell_type": "markdown",
   "metadata": {},
   "source": [
    "### Using ADAM Optimizer (Noiseless)"
   ]
  },
  {
   "cell_type": "markdown",
   "metadata": {},
   "source": [
    "Here we used ADAM Optimizer to optimize the theta values for **Rx** and **Ry** gates."
   ]
  },
  {
   "cell_type": "code",
   "execution_count": 127,
   "metadata": {},
   "outputs": [
    {
     "name": "stdout",
     "output_type": "stream",
     "text": [
      "For shots:  1\n",
      "For shots:  10\n",
      "For shots:  100\n",
      "For shots:  1000\n"
     ]
    }
   ],
   "source": [
    "opt = ADAM(maxiter=5000, tol=0.01, lr=0.1, beta_1=0.9, beta_2=0.999)\n",
    "steps = 50\n",
    "\n",
    "points_costs_adam_optimizer = []\n",
    "obj = Circuit_Class()\n",
    "\n",
    "for shots in [1, 10, 100, 1000]:\n",
    "    obj.shots = shots\n",
    "    print('For shots: ', shots)\n",
    "    temporary_points = []\n",
    "    \n",
    "    for i in range(steps):\n",
    "        initial_point = np.random.rand(3)\n",
    "        params = opt.optimize(num_vars=3, objective_function=obj.get_cost, initial_point=initial_point)\n",
    "        temporary_points.append(params)\n",
    "        if params[1] <= 1.00:\n",
    "            break\n",
    "            \n",
    "    mini_cost = 500000.00\n",
    "    mini_point = None\n",
    "    \n",
    "    for points in temporary_points:\n",
    "        if points[1] < mini_cost:\n",
    "            mini_point = list(points[0])\n",
    "            mini_cost = points[1]\n",
    "            \n",
    "    points_costs_adam_optimizer.append(mini_point)"
   ]
  },
  {
   "cell_type": "code",
   "execution_count": 128,
   "metadata": {},
   "outputs": [
    {
     "data": {
      "text/plain": [
       "[[2.789525810270704, 1.4750686025397703, 2.9576032689898635],\n",
       " [1.8409143727929833, 1.7166060686151734, 2.5949155003635496],\n",
       " [1.0884767720702935, 3.7933212819854125, 3.1243795095504527],\n",
       " [1.7732074887508715, 2.2016298210229626, 2.017761849213772]]"
      ]
     },
     "execution_count": 128,
     "metadata": {},
     "output_type": "execute_result"
    }
   ],
   "source": [
    "points_costs_adam_optimizer"
   ]
  },
  {
   "cell_type": "markdown",
   "metadata": {},
   "source": [
    "### Show Results for ADAM Optimizer (Noiseless)"
   ]
  },
  {
   "cell_type": "markdown",
   "metadata": {},
   "source": [
    "#### Shot 1"
   ]
  },
  {
   "cell_type": "code",
   "execution_count": 129,
   "metadata": {},
   "outputs": [
    {
     "data": {
      "image/png": "[encoded data removed]",
      "text/plain": [
       "<Figure size 504x360 with 1 Axes>"
      ]
     },
     "execution_count": 129,
     "metadata": {},
     "output_type": "execute_result"
    }
   ],
   "source": [
    "obj = Circuit_Class()\n",
    "obj.shots = 1\n",
    "counts = obj.get_circuit_outputs(points_costs_adam_optimizer[0])\n",
    "\n",
    "plot_histogram(counts)"
   ]
  },
  {
   "cell_type": "markdown",
   "metadata": {},
   "source": [
    "#### Shots 10"
   ]
  },
  {
   "cell_type": "code",
   "execution_count": 130,
   "metadata": {},
   "outputs": [
    {
     "data": {
      "image/png": "[encoded data removed]",
      "text/plain": [
       "<Figure size 504x360 with 1 Axes>"
      ]
     },
     "execution_count": 130,
     "metadata": {},
     "output_type": "execute_result"
    }
   ],
   "source": [
    "obj.shots = 10\n",
    "counts = obj.get_circuit_outputs(points_costs_adam_optimizer[1])\n",
    "plot_histogram(counts)"
   ]
  },
  {
   "cell_type": "markdown",
   "metadata": {},
   "source": [
    "#### Shots 100"
   ]
  },
  {
   "cell_type": "code",
   "execution_count": 131,
   "metadata": {},
   "outputs": [
    {
     "data": {
      "image/png": "[encoded data removed]",
      "text/plain": [
       "<Figure size 504x360 with 1 Axes>"
      ]
     },
     "execution_count": 131,
     "metadata": {},
     "output_type": "execute_result"
    }
   ],
   "source": [
    "obj.shots = 100\n",
    "counts = obj.get_circuit_outputs(points_costs_adam_optimizer[2])\n",
    "plot_histogram(counts)"
   ]
  },
  {
   "cell_type": "markdown",
   "metadata": {},
   "source": [
    "#### Shots 1000"
   ]
  },
  {
   "cell_type": "code",
   "execution_count": 132,
   "metadata": {},
   "outputs": [
    {
     "data": {
      "image/png": "[encoded data removed]",
      "text/plain": [
       "<Figure size 504x360 with 1 Axes>"
      ]
     },
     "execution_count": 132,
     "metadata": {},
     "output_type": "execute_result"
    }
   ],
   "source": [
    "obj.shots = 1000\n",
    "counts = obj.get_circuit_outputs(points_costs_adam_optimizer[3])\n",
    "plot_histogram(counts)"
   ]
  },
  {
   "cell_type": "markdown",
   "metadata": {},
   "source": [
    "### Using ADAM Optimizer (Noise)"
   ]
  },
  {
   "cell_type": "code",
   "execution_count": 135,
   "metadata": {},
   "outputs": [
    {
     "name": "stdout",
     "output_type": "stream",
     "text": [
      "For shots:  1\n",
      "For shots:  10\n",
      "For shots:  100\n",
      "For shots:  1000\n"
     ]
    }
   ],
   "source": [
    "opt = ADAM(maxiter=5000, tol=0.01, lr=0.1, beta_1=0.9, beta_2=0.999)\n",
    "steps = 50\n",
    "\n",
    "points_costs_adam_optimizer = []\n",
    "obj = Circuit_Class()\n",
    "\n",
    "for shots in [1, 10, 100, 1000]:\n",
    "    obj.shots = shots\n",
    "    print('For shots: ', shots)\n",
    "    temporary_points = []\n",
    "    \n",
    "    for i in range(steps):\n",
    "        initial_point = np.random.rand(3)\n",
    "        params = opt.optimize(num_vars=3, objective_function=obj.get_cost_with_noise, initial_point=initial_point)\n",
    "        temporary_points.append(params)\n",
    "        if params[1] <= 1.00:\n",
    "            break\n",
    "            \n",
    "    mini_cost = 500000.00\n",
    "    mini_point = None\n",
    "    \n",
    "    for points in temporary_points:\n",
    "        if points[1] < mini_cost:\n",
    "            mini_point = list(points[0])\n",
    "            mini_cost = points[1]\n",
    "            \n",
    "    points_costs_adam_optimizer.append(mini_point)"
   ]
  },
  {
   "cell_type": "code",
   "execution_count": 136,
   "metadata": {},
   "outputs": [
    {
     "data": {
      "text/plain": [
       "[[0.4354908708577269, 0.011722495898571257, 0.9434832626174924],\n",
       " [2.1723287595867915, 2.1435867191027733, 2.7726979855378926],\n",
       " [2.236261285439924, 2.0210533246040256, 3.3366831305223545],\n",
       " [-1.5278923449941, -1.9347222070422605, -2.498153141573737]]"
      ]
     },
     "execution_count": 136,
     "metadata": {},
     "output_type": "execute_result"
    }
   ],
   "source": [
    "points_costs_adam_optimizer"
   ]
  },
  {
   "cell_type": "markdown",
   "metadata": {},
   "source": [
    "### Show Results for ADAM Optimizer (Noise)"
   ]
  },
  {
   "cell_type": "markdown",
   "metadata": {},
   "source": [
    "#### Shot 1"
   ]
  },
  {
   "cell_type": "code",
   "execution_count": 137,
   "metadata": {},
   "outputs": [
    {
     "data": {
      "image/png": "[encoded data removed]",
      "text/plain": [
       "<Figure size 504x360 with 1 Axes>"
      ]
     },
     "execution_count": 137,
     "metadata": {},
     "output_type": "execute_result"
    }
   ],
   "source": [
    "obj = Circuit_Class()\n",
    "obj.shots = 1\n",
    "counts = obj.get_circuit_outputs_with_noise(points_costs_adam_optimizer[0])\n",
    "\n",
    "plot_histogram(counts)"
   ]
  },
  {
   "cell_type": "markdown",
   "metadata": {},
   "source": [
    "#### Shots 10"
   ]
  },
  {
   "cell_type": "code",
   "execution_count": 138,
   "metadata": {},
   "outputs": [
    {
     "data": {
      "image/png": "[encoded data removed]",
      "text/plain": [
       "<Figure size 504x360 with 1 Axes>"
      ]
     },
     "execution_count": 138,
     "metadata": {},
     "output_type": "execute_result"
    }
   ],
   "source": [
    "obj.shots = 10\n",
    "counts = obj.get_circuit_outputs_with_noise(points_costs_adam_optimizer[1])\n",
    "plot_histogram(counts)"
   ]
  },
  {
   "cell_type": "markdown",
   "metadata": {},
   "source": [
    "#### Shots 100"
   ]
  },
  {
   "cell_type": "code",
   "execution_count": 139,
   "metadata": {},
   "outputs": [
    {
     "data": {
      "image/png": "[encoded data removed]",
      "text/plain": [
       "<Figure size 504x360 with 1 Axes>"
      ]
     },
     "execution_count": 139,
     "metadata": {},
     "output_type": "execute_result"
    }
   ],
   "source": [
    "obj.shots = 100\n",
    "counts = obj.get_circuit_outputs_with_noise(points_costs_adam_optimizer[2])\n",
    "plot_histogram(counts)"
   ]
  },
  {
   "cell_type": "markdown",
   "metadata": {},
   "source": [
    "#### Shots 1000"
   ]
  },
  {
   "cell_type": "code",
   "execution_count": 140,
   "metadata": {},
   "outputs": [
    {
     "data": {
      "image/png": "[encoded data removed]",
      "text/plain": [
       "<Figure size 504x360 with 1 Axes>"
      ]
     },
     "execution_count": 140,
     "metadata": {},
     "output_type": "execute_result"
    }
   ],
   "source": [
    "obj.shots = 1000\n",
    "counts = obj.get_circuit_outputs_with_noise(points_costs_adam_optimizer[3])\n",
    "plot_histogram(counts)"
   ]
  },
  {
   "cell_type": "markdown",
   "metadata": {},
   "source": [
    "### Using Gradient Descent (Noiseless)"
   ]
  },
  {
   "cell_type": "code",
   "execution_count": 235,
   "metadata": {},
   "outputs": [
    {
     "name": "stdout",
     "output_type": "stream",
     "text": [
      "Running for shots:  1\n",
      "(array([0.73535916, 0.30648883, 0.21166846]), 5000.009536743164, 2)\n",
      "(array([0.73535916, 0.30648883, 0.21166846]), 5000.009536743164, 0)\n",
      "(array([0.73535916, 0.30648883, 0.21166846]), 5000.009536743164, 0)\n",
      "(array([0.73535916, 0.30648883, 0.21166846]), 5000.009536743164, 0)\n",
      "(array([0.73535916, 0.30648883, 0.21166846]), 5000.009536743164, 0)\n",
      "(array([0.73535916, 0.30648883, 0.21166846]), 5000.009536743164, 0)\n",
      "(array([0.73535916, 0.30648883, 0.21166846]), 5000.009536743164, 0)\n",
      "(array([0.73535916, 0.30648883, 0.21166846]), 5000.009536743164, 0)\n",
      "(array([0.73535916, 0.30648883, 0.21166846]), 5000.009536743164, 0)\n",
      "(array([0.73535916, 0.30648883, 0.21166846]), 5000.009536743164, 0)\n",
      "Running for shots:  10\n",
      "(array([0.37166658, 0.77007187, 3.08541269]), 4902.839660644531, 112)\n",
      "(array([0.37214342, 0.76971901, 3.11441393]), 4902.839660644531, 14)\n",
      "(array([0.37214342, 0.76971901, 3.11441393]), 4902.992248535156, 0)\n",
      "(array([0.37222925, 0.76958549, 3.13394518]), 4902.992248535156, 3)\n",
      "(array([0.37197176, 0.77012909, 3.13365908]), 4902.820587158203, 42)\n",
      "(array([0.3720862 , 0.76972854, 3.1826684 ]), 4902.839660644531, 17)\n",
      "(array([0.37224832, 0.76990974, 3.16285105]), 4903.125762939453, 3)\n",
      "(array([0.37193361, 0.77468765, 3.13870402]), 4902.896881103516, 7)\n",
      "(array([0.37193361, 0.77468765, 3.13870402]), 4903.125762939453, 0)\n",
      "(array([0.37193361, 0.77468765, 3.13870402]), 4903.125762939453, 0)\n",
      "Running for shots:  100\n",
      "(array([0.73606255, 0.41737945, 3.17327923]), 4085.0257873535156, 97)\n",
      "(array([0.62302353, 0.45059593, 3.14362949]), 4081.2110900878906, 490)\n",
      "(array([0.71970703, 0.50652893, 3.11694569]), 4081.2110900878906, 299)\n",
      "(array([0.75931313, 0.52524002, 3.10923046]), 4079.5326232910156, 500)\n",
      "(array([0.78252556, 0.52670867, 3.19963879]), 4079.5326232910156, 30)\n",
      "(array([0.76064827, 0.54426582, 3.14087337]), 4080.352783203125, 45)\n",
      "(array([0.7274604 , 0.5789891 , 3.14316219]), 4078.0067443847656, 208)\n",
      "(array([0.80432655, 0.58042915, 3.15581745]), 4078.7506103515625, 500)\n",
      "(array([0.81316711, 0.58250816, 3.16764301]), 4080.352783203125, 21)\n",
      "(array([0.81316711, 0.58250816, 3.16764301]), 4085.0257873535156, 0)\n",
      "Running for shots:  1000\n",
      "(array([ 1.38370169, -3.3525832 , -7.72703303]), 12.1307373046875, 500)\n",
      "(array([ 0.71544302, -4.55433682,  5.38612233]), 9.80377197265625, 500)\n",
      "(array([-0.89449274, -2.09210232, 93.0884348 ]), 4.825592041015625, 500)\n",
      "(array([-2.2714554 , -1.30862072, 69.39054357]), 3.566741943359375, 500)\n",
      "(array([-2.76381838,  1.76840946, 99.84933721]), 71.77352905273438, 500)\n",
      "(array([-3.68462908, -0.41912869, 76.07045041]), 62.389373779296875, 500)\n",
      "(array([-1.01899492, -3.13771084, 63.16166745]), 3.223419189453125, 500)\n",
      "(array([ 4.41017759, -5.96935108, 35.61788426]), 2.74658203125, 500)\n",
      "(array([  0.53792608,  -6.07159451, 118.73696195]), 4.291534423828125, 500)\n",
      "(array([-2.13483202, -5.32988384, 57.22226964]), 8.0108642578125, 500)\n"
     ]
    }
   ],
   "source": [
    "opt = AQGD(maxiter=500, eta=0.001, tol=0.01, disp=False, momentum=0.0)\n",
    "steps = 10\n",
    "\n",
    "points_costs_gd_optimizer = []\n",
    "obj = Circuit_Class()\n",
    "\n",
    "for shots in [1, 10, 100, 1000]:\n",
    "    obj.shots = shots\n",
    "    print('Running for shots: ', shots)\n",
    "    temporary_points = []\n",
    "    initial_point = np.random.rand(3)\n",
    "    \n",
    "    for i in range(steps):\n",
    "        params = opt.optimize(num_vars=3, objective_function=obj.get_cost, initial_point=initial_point)\n",
    "        temporary_points.append(params)\n",
    "        print(params)\n",
    "        initial_point = list(params[0])\n",
    "        if params[1] <= 1.00:\n",
    "            break\n",
    "    \n",
    "    mini_cost = 500000.00\n",
    "    mini_point = None\n",
    "    \n",
    "    for points in temporary_points:\n",
    "        if points[1] < mini_cost:\n",
    "            mini_point = list(points[0])\n",
    "            mini_cost = points[1]\n",
    "            \n",
    "    points_costs_gd_optimizer.append(mini_point)"
   ]
  },
  {
   "cell_type": "code",
   "execution_count": 236,
   "metadata": {},
   "outputs": [
    {
     "data": {
      "text/plain": [
       "[[0.735359158616679, 0.30648883292979834, 0.21166845833830705],\n",
       " [0.3719717569699922, 0.7701290868804139, 3.1336590781466467],\n",
       " [0.7274604030663603, 0.5789891004477994, 3.143162193179674],\n",
       " [4.410177593209453, -5.9693510828728975, 35.61788426450033]]"
      ]
     },
     "execution_count": 236,
     "metadata": {},
     "output_type": "execute_result"
    }
   ],
   "source": [
    "points_costs_gd_optimizer"
   ]
  },
  {
   "cell_type": "markdown",
   "metadata": {},
   "source": [
    "### Show Results for Gradient Descent (Noiseless)"
   ]
  },
  {
   "cell_type": "markdown",
   "metadata": {},
   "source": [
    "#### Shots 1"
   ]
  },
  {
   "cell_type": "code",
   "execution_count": 237,
   "metadata": {},
   "outputs": [
    {
     "data": {
      "image/png": "[encoded data removed]",
      "text/plain": [
       "<Figure size 504x360 with 1 Axes>"
      ]
     },
     "execution_count": 237,
     "metadata": {},
     "output_type": "execute_result"
    }
   ],
   "source": [
    "obj = Circuit_Class()\n",
    "obj.shots = 1\n",
    "counts = obj.get_circuit_outputs(points_costs_gd_optimizer[0])\n",
    "\n",
    "plot_histogram(counts)"
   ]
  },
  {
   "cell_type": "markdown",
   "metadata": {},
   "source": [
    "#### Shots 10"
   ]
  },
  {
   "cell_type": "code",
   "execution_count": 238,
   "metadata": {},
   "outputs": [
    {
     "data": {
      "image/png": "[encoded data removed]",
      "text/plain": [
       "<Figure size 504x360 with 1 Axes>"
      ]
     },
     "execution_count": 238,
     "metadata": {},
     "output_type": "execute_result"
    }
   ],
   "source": [
    "obj.shots = 10\n",
    "counts = obj.get_circuit_outputs(points_costs_gd_optimizer[1])\n",
    "plot_histogram(counts)"
   ]
  },
  {
   "cell_type": "markdown",
   "metadata": {},
   "source": [
    "#### Shots 100"
   ]
  },
  {
   "cell_type": "code",
   "execution_count": 239,
   "metadata": {},
   "outputs": [
    {
     "data": {
      "image/png": "[encoded data removed]",
      "text/plain": [
       "<Figure size 504x360 with 1 Axes>"
      ]
     },
     "execution_count": 239,
     "metadata": {},
     "output_type": "execute_result"
    }
   ],
   "source": [
    "obj.shots = 100\n",
    "counts = obj.get_circuit_outputs(points_costs_gd_optimizer[2])\n",
    "plot_histogram(counts)"
   ]
  },
  {
   "cell_type": "markdown",
   "metadata": {},
   "source": [
    "#### Shots 1000"
   ]
  },
  {
   "cell_type": "code",
   "execution_count": 240,
   "metadata": {},
   "outputs": [
    {
     "data": {
      "image/png": "[encoded data removed]",
      "text/plain": [
       "<Figure size 504x360 with 1 Axes>"
      ]
     },
     "execution_count": 240,
     "metadata": {},
     "output_type": "execute_result"
    }
   ],
   "source": [
    "obj.shots = 1000\n",
    "counts = obj.get_circuit_outputs(points_costs_gd_optimizer[3])\n",
    "plot_histogram(counts)"
   ]
  },
  {
   "cell_type": "markdown",
   "metadata": {},
   "source": [
    "### Using Gradient Descent (Noisy)"
   ]
  },
  {
   "cell_type": "code",
   "execution_count": 242,
   "metadata": {},
   "outputs": [
    {
     "name": "stdout",
     "output_type": "stream",
     "text": [
      "Running for shots:  1\n",
      "(array([0.81280707, 0.88713583, 0.50619924]), 5000.009536743164, 2)\n",
      "(array([0.81280707, 0.88713583, 0.50619924]), 5000.009536743164, 0)\n",
      "(array([0.81280707, 0.88713583, 0.50619924]), 5000.009536743164, 0)\n",
      "(array([0.81280707, 0.88713583, 0.50619924]), 4990.243911743164, 3)\n",
      "(array([0.81280707, 0.88713583, 0.50619924]), 5000.009536743164, 0)\n",
      "(array([0.81280707, 0.88713583, 0.51108206]), 4990.243911743164, 3)\n",
      "(array([0.81280707, 0.88713583, 0.51108206]), 5000.009536743164, 0)\n",
      "(array([0.81768988, 0.88713583, 0.51596487]), 4990.243911743164, 3)\n",
      "(array([0.81768988, 0.88713583, 0.51596487]), 5000.009536743164, 0)\n",
      "(array([0.81768988, 0.88713583, 0.51596487]), 5000.009536743164, 0)\n",
      "Running for shots:  10\n",
      "(array([0.82770951, 0.15656202, 3.13456281]), 4902.820587158203, 119)\n",
      "(array([0.82729943, 0.15674322, 3.1347917 ]), 4902.839660644531, 28)\n",
      "(array([0.82236893, 0.1565811 , 3.10563787]), 4902.896881103516, 28)\n",
      "(array([0.82236893, 0.1565811 , 3.10563787]), 4903.125762939453, 0)\n",
      "(array([0.82214005, 0.15657156, 3.13508733]), 4902.992248535156, 2)\n",
      "(array([0.82218773, 0.15681951, 3.15440878]), 4902.820587158203, 18)\n",
      "(array([0.82221634, 0.15694349, 3.14946874]), 4902.992248535156, 6)\n",
      "(array([0.82198746, 0.15698164, 3.11523184]), 4902.896881103516, 19)\n",
      "(array([0.82198746, 0.15698164, 3.11523184]), 4902.992248535156, 0)\n",
      "(array([0.8221019 , 0.15702932, 3.08603033]), 4902.820587158203, 9)\n",
      "Running for shots:  100\n",
      "(array([0.61215772, 0.14987422, 3.16046553]), 4090.6524658203125, 170)\n",
      "(array([0.63378705, 0.16048862, 3.14735251]), 4090.6524658203125, 306)\n",
      "(array([0.6113471 , 0.18035365, 3.17253905]), 4091.8922424316406, 75)\n",
      "(array([0.58384313, 0.17317249, 3.22226362]), 4095.8404541015625, 35)\n",
      "(array([0.57093992, 0.15855266, 3.1161006 ]), 4093.170166015625, 74)\n",
      "(array([0.57171239, 0.15620662, 3.17628699]), 4104.766845703125, 2)\n",
      "(array([0.58504476, 0.15795184, 3.17187147]), 4090.6524658203125, 62)\n",
      "(array([0.59845342, 0.14923526, 3.12118368]), 4091.8922424316406, 64)\n",
      "(array([0.6177081 , 0.16064121, 3.18335371]), 4088.287353515625, 123)\n",
      "(array([0.62002553, 0.16087962, 3.20122557]), 4091.8922424316406, 37)\n",
      "Running for shots:  1000\n",
      "(array([ 0.38141299, -1.48428055, 32.52499823]), 4.8065185546875, 500)\n",
      "(array([  4.0456872 ,  -3.25725647, 119.83742957]), 3.681182861328125, 500)\n",
      "(array([ 6.07938815,  0.1713076 , 51.09779601]), 3.108978271484375, 500)\n",
      "(array([  8.22497416,   1.25756172, -80.98968263]), 4.558563232421875, 500)\n",
      "(array([6.07722331, 3.05616287, 6.20184187]), 11.959075927734375, 500)\n",
      "(array([   7.44758654,    0.84251312, -132.16750856]), 3.223419189453125, 500)\n",
      "(array([  6.27341319,   6.16610435, -33.19486375]), 3.223419189453125, 500)\n",
      "(array([ 5.22721339,  2.10736183, 17.54301314]), 7.7056884765625, 500)\n",
      "(array([  4.25286341,   5.26052383, -38.13962694]), 5.512237548828125, 500)\n",
      "(array([  4.37950183,   2.8374472 , -78.54560609]), 22.6593017578125, 500)\n"
     ]
    }
   ],
   "source": [
    "opt = AQGD(maxiter=500, eta=0.001, tol=0.01, disp=False, momentum=0.0)\n",
    "steps = 10\n",
    "\n",
    "points_costs_gd_optimizer = []\n",
    "obj = Circuit_Class()\n",
    "\n",
    "for shots in [1, 10, 100, 1000]:\n",
    "    obj.shots = shots\n",
    "    print('Running for shots: ', shots)\n",
    "    temporary_points = []\n",
    "    initial_point = np.random.rand(3)\n",
    "    \n",
    "    for i in range(steps):\n",
    "        params = opt.optimize(num_vars=3, objective_function=obj.get_cost_with_noise, initial_point=initial_point)\n",
    "        temporary_points.append(params)\n",
    "        print(params)\n",
    "        initial_point = list(params[0])\n",
    "        if params[1] <= 1.00:\n",
    "            break\n",
    "    \n",
    "    mini_cost = 500000.00\n",
    "    mini_point = None\n",
    "    \n",
    "    for points in temporary_points:\n",
    "        if points[1] < mini_cost:\n",
    "            mini_point = list(points[0])\n",
    "            mini_cost = points[1]\n",
    "            \n",
    "    points_costs_gd_optimizer.append(mini_point)"
   ]
  },
  {
   "cell_type": "code",
   "execution_count": 243,
   "metadata": {},
   "outputs": [
    {
     "data": {
      "text/plain": [
       "[[0.8128070703893719, 0.88713582956034, 0.5061992426082127],\n",
       " [0.8277095080772235, 0.15656202162103516, 3.134562813404101],\n",
       " [0.6177081041475804, 0.1606412057314155, 3.183353711755498],\n",
       " [6.079388147820968, 0.1713075986084469, 51.09779600651555]]"
      ]
     },
     "execution_count": 243,
     "metadata": {},
     "output_type": "execute_result"
    }
   ],
   "source": [
    "points_costs_gd_optimizer"
   ]
  },
  {
   "cell_type": "markdown",
   "metadata": {},
   "source": [
    "### Show Results for Gradient Descent (Noiseless)"
   ]
  },
  {
   "cell_type": "markdown",
   "metadata": {},
   "source": [
    "#### Shot 1"
   ]
  },
  {
   "cell_type": "code",
   "execution_count": 244,
   "metadata": {},
   "outputs": [
    {
     "data": {
      "image/png": "[encoded data removed]",
      "text/plain": [
       "<Figure size 504x360 with 1 Axes>"
      ]
     },
     "execution_count": 244,
     "metadata": {},
     "output_type": "execute_result"
    }
   ],
   "source": [
    "obj = Circuit_Class()\n",
    "obj.shots = 1\n",
    "counts = obj.get_circuit_outputs_with_noise(points_costs_gd_optimizer[0])\n",
    "\n",
    "plot_histogram(counts)"
   ]
  },
  {
   "cell_type": "markdown",
   "metadata": {},
   "source": [
    "#### Shots 10"
   ]
  },
  {
   "cell_type": "code",
   "execution_count": 245,
   "metadata": {},
   "outputs": [
    {
     "data": {
      "image/png": "[encoded data removed]",
      "text/plain": [
       "<Figure size 504x360 with 1 Axes>"
      ]
     },
     "execution_count": 245,
     "metadata": {},
     "output_type": "execute_result"
    }
   ],
   "source": [
    "obj.shots = 10\n",
    "counts = obj.get_circuit_outputs_with_noise(points_costs_gd_optimizer[1])\n",
    "plot_histogram(counts)"
   ]
  },
  {
   "cell_type": "markdown",
   "metadata": {},
   "source": [
    "#### Shots 100"
   ]
  },
  {
   "cell_type": "code",
   "execution_count": 246,
   "metadata": {},
   "outputs": [
    {
     "data": {
      "image/png": "[encoded data removed]",
      "text/plain": [
       "<Figure size 504x360 with 1 Axes>"
      ]
     },
     "execution_count": 246,
     "metadata": {},
     "output_type": "execute_result"
    }
   ],
   "source": [
    "obj.shots = 100\n",
    "counts = obj.get_circuit_outputs_with_noise(points_costs_gd_optimizer[2])\n",
    "plot_histogram(counts)"
   ]
  },
  {
   "cell_type": "markdown",
   "metadata": {},
   "source": [
    "#### Shots 1000"
   ]
  },
  {
   "cell_type": "code",
   "execution_count": 247,
   "metadata": {},
   "outputs": [
    {
     "data": {
      "image/png": "[encoded data removed]",
      "text/plain": [
       "<Figure size 504x360 with 1 Axes>"
      ]
     },
     "execution_count": 247,
     "metadata": {},
     "output_type": "execute_result"
    }
   ],
   "source": [
    "obj.shots = 1000\n",
    "counts = obj.get_circuit_outputs_with_noise(points_costs_gd_optimizer[3])\n",
    "plot_histogram(counts)"
   ]
  },
  {
   "cell_type": "markdown",
   "metadata": {},
   "source": [
    "<i> Therefore we can see that, `ADAM Optimizer` performs better than `AQGD` in this particular case. </i>"
   ]
  },
  {
   "cell_type": "markdown",
   "metadata": {},
   "source": [
    "### Bonus Question "
   ]
  },
  {
   "cell_type": "markdown",
   "metadata": {},
   "source": [
    "This notebook implements bell-state output using **Rx**, **Ry** and **CNOT** gate which is equivalent to the circuit using **Hadamard** gate, **CX** gate and **CNOT** gate. We all know that, Hadamard gate rotates $\\lvert0\\rangle$ state to $\\lvert+\\rangle$ state and $\\lvert1\\rangle$ to $\\lvert-\\rangle$ state. Also, Pauli $X$ (that is **CX**) gate flips  $\\lvert0\\rangle$ to $\\lvert1\\rangle$ and vice versa.\n",
    "\n",
    "- Initially qubit $0$ and qubit $1$ are in $\\lvert0\\rangle$ state. \n",
    "- **CX** gate flips $\\lvert0\\rangle$ to $\\lvert1\\rangle$. And applying **Hadamard** gate creates possibility of $0.5$ $\\lvert0\\rangle$ state and $0.5$ $\\lvert1\\rangle$ state. \n",
    "- When the first qubit represents $\\lvert0\\rangle$ state, applying $CX$ gate does not change the state of second qubit. It becomes $\\lvert01\\rangle$. \n",
    "- When the first qubit is in $\\lvert1\\rangle$ state, the second qubit becomes $\\lvert0\\rangle$ after applying $CX$ gate. \n",
    "- Now, as the **Hadamard** gate rotates $\\lvert0\\rangle$ to $\\lvert+\\rangle$ state, the resulting state from the circuit becomes $\\lvert01\\rangle+\\lvert10\\rangle$.\n",
    "\n",
    "Thus, we can see this circuit produces only $\\lvert01\\rangle+\\lvert10\\rangle$ state, not any other combination of $\\lvert01\\rangle$ + $e(i*\\phi)\\lvert10\\rangle$."
   ]
  }
 ],
 "metadata": {
  "kernelspec": {
   "display_name": "Python 3",
   "language": "python",
   "name": "python3"
  },
  "language_info": {
   "codemirror_mode": {
    "name": "ipython",
    "version": 3
   },
   "file_extension": ".py",
   "mimetype": "text/x-python",
   "name": "python",
   "nbconvert_exporter": "python",
   "pygments_lexer": "ipython3",
   "version": "3.8.3"
  }
 },
 "nbformat": 4,
 "nbformat_minor": 4
}
