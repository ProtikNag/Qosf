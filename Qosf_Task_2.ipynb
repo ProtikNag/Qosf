{
 "cells": [
  {
   "cell_type": "markdown",
   "metadata": {},
   "source": [
    "# Task 2"
   ]
  },
  {
   "cell_type": "markdown",
   "metadata": {},
   "source": [
    "### Imports"
   ]
  },
  {
   "cell_type": "code",
   "execution_count": 2,
   "metadata": {},
   "outputs": [],
   "source": [
    "from qiskit import *\n",
    "from qiskit.aqua.components.optimizers.adam_amsgrad import ADAM\n",
    "from qiskit.aqua.components.optimizers import AQGD\n",
    "from qiskit.visualization import plot_histogram, plot_state_qsphere as plot_q\n",
    "from qiskit.providers.aer.noise import NoiseModel\n",
    "\n",
    "import matplotlib.pyplot as plt\n",
    "%matplotlib inline\n",
    "from math import pi\n",
    "\n",
    "import numpy as np\n",
    "np.random.seed(7)"
   ]
  },
  {
   "cell_type": "markdown",
   "metadata": {},
   "source": [
    "### Define Circuits and other Functions "
   ]
  },
  {
   "cell_type": "markdown",
   "metadata": {},
   "source": [
    "Here, we'll declare a class including necessary functions. These functions will be used for noisy and noiseless circuit calculation."
   ]
  },
  {
   "cell_type": "markdown",
   "metadata": {},
   "source": [
    "We use **Ry** and **Rx** gate on qubit **0** and **Rx** gate on qubit 1. Again, a **CNOT** gate is used, which uses qubit 0 as the control bit. Our main goal here is to implement some sort of **Hadamard** gate on qubit 0 and **Cx** gate on qubit 1, which creates a bell circuit and returns both states `01` and `10` with equal probability. "
   ]
  },
  {
   "cell_type": "code",
   "execution_count": 3,
   "metadata": {},
   "outputs": [],
   "source": [
    "class Circuit_Class:\n",
    "    shots = 1\n",
    "    \n",
    "    def get_circuit(self, params):\n",
    "        q = QuantumCircuit(2, 2)\n",
    "        q.ry(params[0], 0)\n",
    "        q.rx(params[1], 0)\n",
    "        q.rx(params[2], 1)\n",
    "        q.cnot(0, 1)\n",
    "        q.measure(0, 0)\n",
    "        q.measure(1, 1)\n",
    "\n",
    "        return q\n",
    "\n",
    "\n",
    "    def get_circuit_outputs(self, params):\n",
    "        circ = self.get_circuit(params)\n",
    "\n",
    "        backend = Aer.get_backend('qasm_simulator')\n",
    "        job = execute(circ, backend, shots=self.shots)\n",
    "        result = job.result()\n",
    "        counts = result.get_counts()\n",
    "\n",
    "        return counts\n",
    "\n",
    "\n",
    "    def get_cost(self, params):\n",
    "        counts = self.get_circuit_outputs(params)\n",
    "\n",
    "        p_00 = (counts[\"00\"] / self.shots * 100) if \"00\" in counts else 0\n",
    "        p_01 = (counts[\"01\"] / self.shots * 100) if \"01\" in counts else 0    \n",
    "        p_10 = (counts[\"10\"] / self.shots * 100) if \"10\" in counts else 0\n",
    "        p_11 = (counts[\"11\"] / self.shots * 100) if \"11\" in counts else 0\n",
    "\n",
    "        return (0-p_00)**2 + (50-p_01)**2 + (50-p_10)**2 + (0-p_11)**2\n",
    "    \n",
    "    \n",
    "    def get_circuit_outputs_with_noise(self, params):\n",
    "        circ = self.get_circuit(params)\n",
    "\n",
    "        backend = Aer.get_backend('qasm_simulator')\n",
    "        noise_model = NoiseModel()\n",
    "        job = execute(circ, backend, shots=self.shots, noise_model=noise_model)\n",
    "        result = job.result()\n",
    "        counts = result.get_counts()\n",
    "\n",
    "        return counts\n",
    "\n",
    "\n",
    "    def get_cost_with_noise(self, params):\n",
    "        counts = self.get_circuit_outputs_with_noise(params)\n",
    "\n",
    "        p_00 = (counts[\"00\"] / self.shots * 100) if \"00\" in counts else 0\n",
    "        p_01 = (counts[\"01\"] / self.shots * 100) if \"01\" in counts else 0    \n",
    "        p_10 = (counts[\"10\"] / self.shots * 100) if \"10\" in counts else 0\n",
    "        p_11 = (counts[\"11\"] / self.shots * 100) if \"11\" in counts else 0\n",
    "\n",
    "        return (0-p_00)**2 + (50-p_01)**2 + (50-p_10)**2 + (0-p_11)**2"
   ]
  },
  {
   "cell_type": "markdown",
   "metadata": {},
   "source": [
    "### Using ADAM Optimizer (Noiseless)"
   ]
  },
  {
   "cell_type": "markdown",
   "metadata": {},
   "source": [
    "Here we used ADAM Optimizer to optimize the theta values for **Rx** and **Ry** gates."
   ]
  },
  {
   "cell_type": "code",
   "execution_count": 4,
   "metadata": {},
   "outputs": [
    {
     "name": "stdout",
     "output_type": "stream",
     "text": [
      "For shots:  1\n",
      "For shots:  10\n",
      "For shots:  100\n",
      "For shots:  1000\n"
     ]
    }
   ],
   "source": [
    "opt = ADAM(maxiter=5000, tol=0.01, lr=0.1, beta_1=0.9, beta_2=0.999)\n",
    "steps = 50\n",
    "\n",
    "points_costs_adam_optimizer = []\n",
    "obj = Circuit_Class()\n",
    "\n",
    "for shots in [1, 10, 100, 1000]:\n",
    "    obj.shots = shots\n",
    "    print('For shots: ', shots)\n",
    "    temporary_points = []\n",
    "    \n",
    "    for i in range(steps):\n",
    "        initial_point = np.random.rand(3)\n",
    "        params = opt.optimize(num_vars=3, objective_function=obj.get_cost, initial_point=initial_point)\n",
    "        temporary_points.append(params)\n",
    "        if params[1] <= 1.00:\n",
    "            break\n",
    "            \n",
    "    mini_cost = 500000.00\n",
    "    mini_point = None\n",
    "    \n",
    "    for points in temporary_points:\n",
    "        if points[1] < mini_cost:\n",
    "            mini_point = list(points[0])\n",
    "            mini_cost = points[1]\n",
    "            \n",
    "    points_costs_adam_optimizer.append(mini_point)"
   ]
  },
  {
   "cell_type": "code",
   "execution_count": 5,
   "metadata": {},
   "outputs": [
    {
     "data": {
      "text/plain": [
       "[[0.9091283748867313, 0.13316944575925016, 0.5234125806737658],\n",
       " [1.498688920556474, 1.8837156325228395, 2.315707470316683],\n",
       " [1.912210167329676, 1.8466548108554872, 2.1388410165733145],\n",
       " [1.0733794301515225, 1.0353849709278589, 3.1098893043397378]]"
      ]
     },
     "execution_count": 5,
     "metadata": {},
     "output_type": "execute_result"
    }
   ],
   "source": [
    "points_costs_adam_optimizer"
   ]
  },
  {
   "cell_type": "markdown",
   "metadata": {},
   "source": [
    "### Show Results for ADAM Optimizer (Noiseless)"
   ]
  },
  {
   "cell_type": "markdown",
   "metadata": {},
   "source": [
    "#### Shot 1"
   ]
  },
  {
   "cell_type": "code",
   "execution_count": 6,
   "metadata": {},
   "outputs": [
    {
     "data": {
      "image/png": "[encoded data removed]",
      "text/plain": [
       "<Figure size 504x360 with 1 Axes>"
      ]
     },
     "execution_count": 6,
     "metadata": {},
     "output_type": "execute_result"
    }
   ],
   "source": [
    "obj = Circuit_Class()\n",
    "obj.shots = 1\n",
    "counts = obj.get_circuit_outputs(points_costs_adam_optimizer[0])\n",
    "\n",
    "plot_histogram(counts)"
   ]
  },
  {
   "cell_type": "markdown",
   "metadata": {},
   "source": [
    "#### Shots 10"
   ]
  },
  {
   "cell_type": "code",
   "execution_count": 7,
   "metadata": {},
   "outputs": [
    {
     "data": {
      "image/png": "[encoded data removed]",
      "text/plain": [
       "<Figure size 504x360 with 1 Axes>"
      ]
     },
     "execution_count": 7,
     "metadata": {},
     "output_type": "execute_result"
    }
   ],
   "source": [
    "obj.shots = 10\n",
    "counts = obj.get_circuit_outputs(points_costs_adam_optimizer[1])\n",
    "plot_histogram(counts)"
   ]
  },
  {
   "cell_type": "markdown",
   "metadata": {},
   "source": [
    "#### Shots 100"
   ]
  },
  {
   "cell_type": "code",
   "execution_count": 8,
   "metadata": {},
   "outputs": [
    {
     "data": {
      "image/png": "[encoded data removed]",
      "text/plain": [
       "<Figure size 504x360 with 1 Axes>"
      ]
     },
     "execution_count": 8,
     "metadata": {},
     "output_type": "execute_result"
    }
   ],
   "source": [
    "obj.shots = 100\n",
    "counts = obj.get_circuit_outputs(points_costs_adam_optimizer[2])\n",
    "plot_histogram(counts)"
   ]
  },
  {
   "cell_type": "markdown",
   "metadata": {},
   "source": [
    "#### Shots 1000"
   ]
  },
  {
   "cell_type": "code",
   "execution_count": 9,
   "metadata": {},
   "outputs": [
    {
     "data": {
      "image/png": "[encoded data removed]",
      "text/plain": [
       "<Figure size 504x360 with 1 Axes>"
      ]
     },
     "execution_count": 9,
     "metadata": {},
     "output_type": "execute_result"
    }
   ],
   "source": [
    "obj.shots = 1000\n",
    "counts = obj.get_circuit_outputs(points_costs_adam_optimizer[3])\n",
    "plot_histogram(counts)"
   ]
  },
  {
   "cell_type": "markdown",
   "metadata": {},
   "source": [
    "### Using ADAM Optimizer (Noise)"
   ]
  },
  {
   "cell_type": "code",
   "execution_count": 10,
   "metadata": {},
   "outputs": [
    {
     "name": "stdout",
     "output_type": "stream",
     "text": [
      "For shots:  1\n",
      "For shots:  10\n",
      "For shots:  100\n",
      "For shots:  1000\n"
     ]
    }
   ],
   "source": [
    "opt = ADAM(maxiter=5000, tol=0.01, lr=0.1, beta_1=0.9, beta_2=0.999)\n",
    "steps = 50\n",
    "\n",
    "points_costs_adam_optimizer = []\n",
    "obj = Circuit_Class()\n",
    "\n",
    "for shots in [1, 10, 100, 1000]:\n",
    "    obj.shots = shots\n",
    "    print('For shots: ', shots)\n",
    "    temporary_points = []\n",
    "    \n",
    "    for i in range(steps):\n",
    "        initial_point = np.random.rand(3)\n",
    "        params = opt.optimize(num_vars=3, objective_function=obj.get_cost_with_noise, initial_point=initial_point)\n",
    "        temporary_points.append(params)\n",
    "        if params[1] <= 1.00:\n",
    "            break\n",
    "            \n",
    "    mini_cost = 500000.00\n",
    "    mini_point = None\n",
    "    \n",
    "    for points in temporary_points:\n",
    "        if points[1] < mini_cost:\n",
    "            mini_point = list(points[0])\n",
    "            mini_cost = points[1]\n",
    "            \n",
    "    points_costs_adam_optimizer.append(mini_point)"
   ]
  },
  {
   "cell_type": "code",
   "execution_count": 11,
   "metadata": {},
   "outputs": [
    {
     "data": {
      "text/plain": [
       "[[-0.2039000641130584, 0.7524584684437214, 1.7486336506913596],\n",
       " [0.0201750623543962, 1.7157489000649675, 2.374394119679149],\n",
       " [0.9026073474650889, 1.0400840946358405, 2.0687912907217165],\n",
       " [1.4409770118479697, 1.047197643340446, 2.217759032590703]]"
      ]
     },
     "execution_count": 11,
     "metadata": {},
     "output_type": "execute_result"
    }
   ],
   "source": [
    "points_costs_adam_optimizer"
   ]
  },
  {
   "cell_type": "markdown",
   "metadata": {},
   "source": [
    "### Show Results for ADAM Optimizer (Noise)"
   ]
  },
  {
   "cell_type": "markdown",
   "metadata": {},
   "source": [
    "#### Shot 1"
   ]
  },
  {
   "cell_type": "code",
   "execution_count": 12,
   "metadata": {},
   "outputs": [
    {
     "data": {
      "image/png": "[encoded data removed]",
      "text/plain": [
       "<Figure size 504x360 with 1 Axes>"
      ]
     },
     "execution_count": 12,
     "metadata": {},
     "output_type": "execute_result"
    }
   ],
   "source": [
    "obj = Circuit_Class()\n",
    "obj.shots = 1\n",
    "counts = obj.get_circuit_outputs_with_noise(points_costs_adam_optimizer[0])\n",
    "\n",
    "plot_histogram(counts)"
   ]
  },
  {
   "cell_type": "markdown",
   "metadata": {},
   "source": [
    "#### Shots 10"
   ]
  },
  {
   "cell_type": "code",
   "execution_count": 13,
   "metadata": {},
   "outputs": [
    {
     "data": {
      "image/png": "[encoded data removed]",
      "text/plain": [
       "<Figure size 504x360 with 1 Axes>"
      ]
     },
     "execution_count": 13,
     "metadata": {},
     "output_type": "execute_result"
    }
   ],
   "source": [
    "obj.shots = 10\n",
    "counts = obj.get_circuit_outputs_with_noise(points_costs_adam_optimizer[1])\n",
    "plot_histogram(counts)"
   ]
  },
  {
   "cell_type": "markdown",
   "metadata": {},
   "source": [
    "#### Shots 100"
   ]
  },
  {
   "cell_type": "code",
   "execution_count": 14,
   "metadata": {},
   "outputs": [
    {
     "data": {
      "image/png": "[encoded data removed]",
      "text/plain": [
       "<Figure size 504x360 with 1 Axes>"
      ]
     },
     "execution_count": 14,
     "metadata": {},
     "output_type": "execute_result"
    }
   ],
   "source": [
    "obj.shots = 100\n",
    "counts = obj.get_circuit_outputs_with_noise(points_costs_adam_optimizer[2])\n",
    "plot_histogram(counts)"
   ]
  },
  {
   "cell_type": "markdown",
   "metadata": {},
   "source": [
    "#### Shots 1000"
   ]
  },
  {
   "cell_type": "code",
   "execution_count": 15,
   "metadata": {},
   "outputs": [
    {
     "data": {
      "image/png": "[encoded data removed]",
      "text/plain": [
       "<Figure size 504x360 with 1 Axes>"
      ]
     },
     "execution_count": 15,
     "metadata": {},
     "output_type": "execute_result"
    }
   ],
   "source": [
    "obj.shots = 1000\n",
    "counts = obj.get_circuit_outputs_with_noise(points_costs_adam_optimizer[3])\n",
    "plot_histogram(counts)"
   ]
  },
  {
   "cell_type": "markdown",
   "metadata": {},
   "source": [
    "### Using Gradient Descent (Noiseless)"
   ]
  },
  {
   "cell_type": "code",
   "execution_count": 16,
   "metadata": {},
   "outputs": [
    {
     "name": "stdout",
     "output_type": "stream",
     "text": [
      "Running for shots:  1\n",
      "(array([ 0.67816576, -9.23242052,  5.3801054 ]), 15000.0, 2)\n",
      "(array([ 0.67816576, -9.23242052,  5.3801054 ]), 15000.0, 0)\n",
      "(array([ 0.67816576, -9.23242052,  5.3801054 ]), 15000.0, 0)\n",
      "(array([ 0.67816576, -9.23242052,  5.3801054 ]), 15000.0, 0)\n",
      "(array([ 0.67816576, -9.23242052,  5.3801054 ]), 15000.0, 0)\n",
      "(array([ 0.67816576, -9.23242052,  5.3801054 ]), 15000.0, 0)\n",
      "(array([ 0.67816576, -9.23242052,  5.3801054 ]), 15000.0, 0)\n",
      "(array([ 0.67816576, -9.23242052,  5.3801054 ]), 15000.0, 0)\n",
      "(array([ 0.67816576, -9.23242052,  5.3801054 ]), 15000.0, 0)\n",
      "(array([ 0.67816576, -9.23242052,  5.3801054 ]), 15000.0, 0)\n",
      "Running for shots:  10\n",
      "(array([-10.14228815,  -8.11720574,  12.86781991]), 0.0, 500)\n",
      "Running for shots:  100\n",
      "(array([  0.34384824,  -5.38947915, 169.20674739]), 2.0, 500)\n",
      "(array([  3.82884824, -12.89947915,  65.01074739]), 8.0, 500)\n",
      "(array([ -2.99515176, -11.88947915, 211.50074739]), 0.0, 500)\n",
      "Running for shots:  1000\n",
      "(array([ -0.80605196,  -3.21580071, 195.82537938]), 3.540000000000003, 500)\n",
      "(array([ -2.13067196,  -4.59907071, 239.13018938]), 10.300000000000017, 500)\n",
      "(array([ -3.51806196,  -7.53485071, 237.94476938]), 0.24000000000000002, 500)\n"
     ]
    }
   ],
   "source": [
    "opt = AQGD(maxiter=500, eta=0.001, tol=0.01, disp=False, momentum=0.0)\n",
    "steps = 10\n",
    "\n",
    "points_costs_gd_optimizer = []\n",
    "obj = Circuit_Class()\n",
    "\n",
    "for shots in [1, 10, 100, 1000]:\n",
    "    obj.shots = shots\n",
    "    print('Running for shots: ', shots)\n",
    "    temporary_points = []\n",
    "    initial_point = np.random.rand(3)\n",
    "    \n",
    "    for i in range(steps):\n",
    "        params = opt.optimize(num_vars=3, objective_function=obj.get_cost, initial_point=initial_point)\n",
    "        temporary_points.append(params)\n",
    "        print(params)\n",
    "        initial_point = list(params[0])\n",
    "        if params[1] <= 1.00:\n",
    "            break\n",
    "    \n",
    "    mini_cost = 500000.00\n",
    "    mini_point = None\n",
    "    \n",
    "    for points in temporary_points:\n",
    "        if points[1] < mini_cost:\n",
    "            mini_point = list(points[0])\n",
    "            mini_cost = points[1]\n",
    "            \n",
    "    points_costs_gd_optimizer.append(mini_point)"
   ]
  },
  {
   "cell_type": "code",
   "execution_count": 17,
   "metadata": {},
   "outputs": [
    {
     "data": {
      "text/plain": [
       "[[0.6781657600983213, -9.232420524249342, 5.380105404882535],\n",
       " [-10.142288152382227, -8.117205735129328, 12.867819905217221],\n",
       " [-2.9951517646663945, -11.889479151930791, 211.50074738928393],\n",
       " [-3.518061960373874, -7.534850710427538, 237.94476937654744]]"
      ]
     },
     "execution_count": 17,
     "metadata": {},
     "output_type": "execute_result"
    }
   ],
   "source": [
    "points_costs_gd_optimizer"
   ]
  },
  {
   "cell_type": "markdown",
   "metadata": {},
   "source": [
    "### Show Results for Gradient Descent (Noiseless)"
   ]
  },
  {
   "cell_type": "markdown",
   "metadata": {},
   "source": [
    "#### Shots 1"
   ]
  },
  {
   "cell_type": "code",
   "execution_count": 18,
   "metadata": {},
   "outputs": [
    {
     "data": {
      "image/png": "[encoded data removed]",
      "text/plain": [
       "<Figure size 504x360 with 1 Axes>"
      ]
     },
     "execution_count": 18,
     "metadata": {},
     "output_type": "execute_result"
    }
   ],
   "source": [
    "obj = Circuit_Class()\n",
    "obj.shots = 1\n",
    "counts = obj.get_circuit_outputs(points_costs_gd_optimizer[0])\n",
    "\n",
    "plot_histogram(counts)"
   ]
  },
  {
   "cell_type": "markdown",
   "metadata": {},
   "source": [
    "#### Shots 10"
   ]
  },
  {
   "cell_type": "code",
   "execution_count": 19,
   "metadata": {},
   "outputs": [
    {
     "data": {
      "image/png": "[encoded data removed]",
      "text/plain": [
       "<Figure size 504x360 with 1 Axes>"
      ]
     },
     "execution_count": 19,
     "metadata": {},
     "output_type": "execute_result"
    }
   ],
   "source": [
    "obj.shots = 10\n",
    "counts = obj.get_circuit_outputs(points_costs_gd_optimizer[1])\n",
    "plot_histogram(counts)"
   ]
  },
  {
   "cell_type": "markdown",
   "metadata": {},
   "source": [
    "#### Shots 100"
   ]
  },
  {
   "cell_type": "code",
   "execution_count": 20,
   "metadata": {},
   "outputs": [
    {
     "data": {
      "image/png": "[encoded data removed]",
      "text/plain": [
       "<Figure size 504x360 with 1 Axes>"
      ]
     },
     "execution_count": 20,
     "metadata": {},
     "output_type": "execute_result"
    }
   ],
   "source": [
    "obj.shots = 100\n",
    "counts = obj.get_circuit_outputs(points_costs_gd_optimizer[2])\n",
    "plot_histogram(counts)"
   ]
  },
  {
   "cell_type": "markdown",
   "metadata": {},
   "source": [
    "#### Shots 1000"
   ]
  },
  {
   "cell_type": "code",
   "execution_count": 21,
   "metadata": {},
   "outputs": [
    {
     "data": {
      "image/png": "[encoded data removed]",
      "text/plain": [
       "<Figure size 504x360 with 1 Axes>"
      ]
     },
     "execution_count": 21,
     "metadata": {},
     "output_type": "execute_result"
    }
   ],
   "source": [
    "obj.shots = 1000\n",
    "counts = obj.get_circuit_outputs(points_costs_gd_optimizer[3])\n",
    "plot_histogram(counts)"
   ]
  },
  {
   "cell_type": "markdown",
   "metadata": {},
   "source": [
    "### Using Gradient Descent (Noisy)"
   ]
  },
  {
   "cell_type": "code",
   "execution_count": 22,
   "metadata": {},
   "outputs": [
    {
     "name": "stdout",
     "output_type": "stream",
     "text": [
      "Running for shots:  1\n",
      "(array([0.03526751, 0.57805175, 5.59198664]), 15000.0, 2)\n",
      "(array([0.03526751, 0.57805175, 5.59198664]), 15000.0, 0)\n",
      "(array([0.03526751, 0.57805175, 5.59198664]), 15000.0, 0)\n",
      "(array([0.03526751, 0.57805175, 5.59198664]), 15000.0, 0)\n",
      "(array([-4.96473249,  0.57805175,  5.59198664]), 5000.0, 3)\n",
      "(array([-9.96473249,  0.57805175,  0.59198664]), 5000.0, 5)\n",
      "(array([-9.96473249,  0.57805175,  0.59198664]), 15000.0, 0)\n",
      "(array([-9.96473249,  0.57805175,  0.59198664]), 15000.0, 0)\n",
      "(array([-9.96473249,  0.57805175,  0.59198664]), 15000.0, 0)\n",
      "(array([-9.96473249,  0.57805175,  0.59198664]), 15000.0, 0)\n",
      "Running for shots:  10\n",
      "(array([-10.07043522,  -3.03901556, -31.87927594]), 0.0, 76)\n",
      "Running for shots:  100\n",
      "(array([ 1.58393365, -4.92534861, 66.63801081]), 2.0, 500)\n",
      "(array([ 15.29093365,  -6.78734861, 113.28601081]), 0.0, 500)\n",
      "Running for shots:  1000\n",
      "(array([-1.39153377e-01,  2.77089157e-01, -1.91118439e+02]), 38.33999999999996, 500)\n",
      "(array([ 3.95662339e-03, -6.02030843e-01, -2.82872289e+02]), 1.8199999999999974, 500)\n",
      "(array([  -1.72168338,   -3.89112084, -282.37167878]), 4.400000000000003, 500)\n",
      "(array([  -3.17560338,   -6.32705084, -304.51682878]), 16.740000000000002, 500)\n",
      "(array([  -6.93377338,   -8.08599084, -300.33195878]), 1.1799999999999957, 500)\n",
      "(array([ -10.42018338,   -8.12641084, -391.62962878]), 2.3400000000000074, 500)\n",
      "(array([ -10.18075338,  -10.71565084, -448.44371878]), 13.52, 500)\n",
      "(array([ -12.22435338,   -9.27886084, -345.89068878]), 5.780000000000019, 500)\n",
      "(array([ -15.04624338,   -7.95609084, -338.94040878]), 3.8800000000000097, 500)\n",
      "(array([ -17.28249338,  -13.29173084, -249.99789878]), 19.85999999999998, 500)\n"
     ]
    }
   ],
   "source": [
    "opt = AQGD(maxiter=500, eta=0.001, tol=0.01, disp=False, momentum=0.0)\n",
    "steps = 10\n",
    "\n",
    "points_costs_gd_optimizer = []\n",
    "obj = Circuit_Class()\n",
    "\n",
    "for shots in [1, 10, 100, 1000]:\n",
    "    obj.shots = shots\n",
    "    print('Running for shots: ', shots)\n",
    "    temporary_points = []\n",
    "    initial_point = np.random.rand(3)\n",
    "    \n",
    "    for i in range(steps):\n",
    "        params = opt.optimize(num_vars=3, objective_function=obj.get_cost_with_noise, initial_point=initial_point)\n",
    "        temporary_points.append(params)\n",
    "        print(params)\n",
    "        initial_point = list(params[0])\n",
    "        if params[1] <= 1.00:\n",
    "            break\n",
    "    \n",
    "    mini_cost = 500000.00\n",
    "    mini_point = None\n",
    "    \n",
    "    for points in temporary_points:\n",
    "        if points[1] < mini_cost:\n",
    "            mini_point = list(points[0])\n",
    "            mini_cost = points[1]\n",
    "            \n",
    "    points_costs_gd_optimizer.append(mini_point)"
   ]
  },
  {
   "cell_type": "code",
   "execution_count": 23,
   "metadata": {},
   "outputs": [
    {
     "data": {
      "text/plain": [
       "[[-4.96473249430898, 0.5780517487402395, 5.591986642081498],\n",
       " [-10.070435217066223, -3.0390155613501797, -31.879275943346148],\n",
       " [15.290933653989079, -6.787348613095423, 113.28601080741696],\n",
       " [-6.933773376605569, -8.085990842595384, -300.3319587816134]]"
      ]
     },
     "execution_count": 23,
     "metadata": {},
     "output_type": "execute_result"
    }
   ],
   "source": [
    "points_costs_gd_optimizer"
   ]
  },
  {
   "cell_type": "markdown",
   "metadata": {},
   "source": [
    "### Show Results for Gradient Descent (Noiseless)"
   ]
  },
  {
   "cell_type": "markdown",
   "metadata": {},
   "source": [
    "#### Shot 1"
   ]
  },
  {
   "cell_type": "code",
   "execution_count": 24,
   "metadata": {},
   "outputs": [
    {
     "data": {
      "image/png": "[encoded data removed]",
      "text/plain": [
       "<Figure size 504x360 with 1 Axes>"
      ]
     },
     "execution_count": 24,
     "metadata": {},
     "output_type": "execute_result"
    }
   ],
   "source": [
    "obj = Circuit_Class()\n",
    "obj.shots = 1\n",
    "counts = obj.get_circuit_outputs_with_noise(points_costs_gd_optimizer[0])\n",
    "\n",
    "plot_histogram(counts)"
   ]
  },
  {
   "cell_type": "markdown",
   "metadata": {},
   "source": [
    "#### Shots 10"
   ]
  },
  {
   "cell_type": "code",
   "execution_count": 25,
   "metadata": {},
   "outputs": [
    {
     "data": {
      "image/png": "[encoded data removed]",
      "text/plain": [
       "<Figure size 504x360 with 1 Axes>"
      ]
     },
     "execution_count": 25,
     "metadata": {},
     "output_type": "execute_result"
    }
   ],
   "source": [
    "obj.shots = 10\n",
    "counts = obj.get_circuit_outputs_with_noise(points_costs_gd_optimizer[1])\n",
    "plot_histogram(counts)"
   ]
  },
  {
   "cell_type": "markdown",
   "metadata": {},
   "source": [
    "#### Shots 100"
   ]
  },
  {
   "cell_type": "code",
   "execution_count": 26,
   "metadata": {},
   "outputs": [
    {
     "data": {
      "image/png": "[encoded data removed]",
      "text/plain": [
       "<Figure size 504x360 with 1 Axes>"
      ]
     },
     "execution_count": 26,
     "metadata": {},
     "output_type": "execute_result"
    }
   ],
   "source": [
    "obj.shots = 100\n",
    "counts = obj.get_circuit_outputs_with_noise(points_costs_gd_optimizer[2])\n",
    "plot_histogram(counts)"
   ]
  },
  {
   "cell_type": "markdown",
   "metadata": {},
   "source": [
    "#### Shots 1000"
   ]
  },
  {
   "cell_type": "code",
   "execution_count": 27,
   "metadata": {},
   "outputs": [
    {
     "data": {
      "image/png": "[encoded data removed]",
      "text/plain": [
       "<Figure size 504x360 with 1 Axes>"
      ]
     },
     "execution_count": 27,
     "metadata": {},
     "output_type": "execute_result"
    }
   ],
   "source": [
    "obj.shots = 1000\n",
    "counts = obj.get_circuit_outputs_with_noise(points_costs_gd_optimizer[3])\n",
    "plot_histogram(counts)"
   ]
  },
  {
   "cell_type": "markdown",
   "metadata": {},
   "source": [
    "<i> Therefore we can see that, `ADAM Optimizer` performs better than `AQGD` in this particular case. </i>"
   ]
  },
  {
   "cell_type": "markdown",
   "metadata": {},
   "source": [
    "### Bonus Question "
   ]
  },
  {
   "cell_type": "markdown",
   "metadata": {},
   "source": [
    "This notebook implements bell-state output using **Rx**, **Ry** and **CNOT** gate which is equivalent to the circuit using **Hadamard** gate, **CX** gate and **CNOT** gate. We all know that, Hadamard gate rotates $\\lvert0\\rangle$ state to $\\lvert+\\rangle$ state and $\\lvert1\\rangle$ to $\\lvert-\\rangle$ state. Also, Pauli $X$ (that is **CX**) gate flips  $\\lvert0\\rangle$ to $\\lvert1\\rangle$ and vice versa.\n",
    "\n",
    "- Initially qubit $0$ and qubit $1$ are in $\\lvert0\\rangle$ state. \n",
    "- **CX** gate flips $\\lvert0\\rangle$ to $\\lvert1\\rangle$. And applying **Hadamard** gate creates possibility of $0.5$ $\\lvert0\\rangle$ state and $0.5$ $\\lvert1\\rangle$ state. \n",
    "- When the first qubit represents $\\lvert0\\rangle$ state, applying $CX$ gate does not change the state of second qubit. It becomes $\\lvert01\\rangle$. \n",
    "- When the first qubit is in $\\lvert1\\rangle$ state, the second qubit becomes $\\lvert0\\rangle$ after applying $CX$ gate. \n",
    "- Now, as the **Hadamard** gate rotates $\\lvert0\\rangle$ to $\\lvert+\\rangle$ state, the resulting state from the circuit becomes $\\lvert01\\rangle+\\lvert10\\rangle$.\n",
    "\n",
    "Thus, we can see this circuit produces only $\\lvert01\\rangle+\\lvert10\\rangle$ state, not any other combination of $\\lvert01\\rangle$ + $e(i*\\phi)\\lvert10\\rangle$."
   ]
  }
 ],
 "metadata": {
  "kernelspec": {
   "display_name": "Python 3",
   "language": "python",
   "name": "python3"
  },
  "language_info": {
   "codemirror_mode": {
    "name": "ipython",
    "version": 3
   },
   "file_extension": ".py",
   "mimetype": "text/x-python",
   "name": "python",
   "nbconvert_exporter": "python",
   "pygments_lexer": "ipython3",
   "version": "3.8.3"
  }
 },
 "nbformat": 4,
 "nbformat_minor": 4
}
